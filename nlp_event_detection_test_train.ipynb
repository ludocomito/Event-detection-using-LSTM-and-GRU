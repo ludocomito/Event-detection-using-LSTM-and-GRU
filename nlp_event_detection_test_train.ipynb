{
  "nbformat": 4,
  "nbformat_minor": 0,
  "metadata": {
    "colab": {
      "provenance": [],
      "collapsed_sections": [
        "UrhjtpeG-6DW",
        "qAmQRemcmMxR",
        "Q5AimGLKAJ7Y",
        "F6Q5FrR-tqAU",
        "LeOii3a3u1xY",
        "-Wy-6UT2y2TT",
        "30_8TjBoKuwG"
      ]
    },
    "kernelspec": {
      "name": "python3",
      "display_name": "Python 3"
    },
    "language_info": {
      "name": "python"
    },
    "accelerator": "GPU",
    "gpuClass": "standard",
    "widgets": {
      "application/vnd.jupyter.widget-state+json": {
        "457f11adffdf44bc9e70fbf7da1fa5cd": {
          "model_module": "@jupyter-widgets/controls",
          "model_name": "VBoxModel",
          "model_module_version": "1.5.0",
          "state": {
            "_dom_classes": [],
            "_model_module": "@jupyter-widgets/controls",
            "_model_module_version": "1.5.0",
            "_model_name": "VBoxModel",
            "_view_count": null,
            "_view_module": "@jupyter-widgets/controls",
            "_view_module_version": "1.5.0",
            "_view_name": "VBoxView",
            "box_style": "",
            "children": [
              "IPY_MODEL_ccce3c70054e4a0894edd0674058cf51",
              "IPY_MODEL_9abeb55d71d04d87b9d03da18df4822e"
            ],
            "layout": "IPY_MODEL_bdf6893dd0f04cefa0530ffc7ebb4c4e"
          }
        },
        "ccce3c70054e4a0894edd0674058cf51": {
          "model_module": "@jupyter-widgets/controls",
          "model_name": "LabelModel",
          "model_module_version": "1.5.0",
          "state": {
            "_dom_classes": [],
            "_model_module": "@jupyter-widgets/controls",
            "_model_module_version": "1.5.0",
            "_model_name": "LabelModel",
            "_view_count": null,
            "_view_module": "@jupyter-widgets/controls",
            "_view_module_version": "1.5.0",
            "_view_name": "LabelView",
            "description": "",
            "description_tooltip": null,
            "layout": "IPY_MODEL_e79d5f7390c1492f91bf9222b667d394",
            "placeholder": "​",
            "style": "IPY_MODEL_23827c7963ee4a6c9a858aa9a1f3ea11",
            "value": "0.018 MB of 0.019 MB uploaded (0.000 MB deduped)\r"
          }
        },
        "9abeb55d71d04d87b9d03da18df4822e": {
          "model_module": "@jupyter-widgets/controls",
          "model_name": "FloatProgressModel",
          "model_module_version": "1.5.0",
          "state": {
            "_dom_classes": [],
            "_model_module": "@jupyter-widgets/controls",
            "_model_module_version": "1.5.0",
            "_model_name": "FloatProgressModel",
            "_view_count": null,
            "_view_module": "@jupyter-widgets/controls",
            "_view_module_version": "1.5.0",
            "_view_name": "ProgressView",
            "bar_style": "",
            "description": "",
            "description_tooltip": null,
            "layout": "IPY_MODEL_f03f9675b6eb47c59179c95c69f76522",
            "max": 1,
            "min": 0,
            "orientation": "horizontal",
            "style": "IPY_MODEL_8d15f3fb61bc412b891602ac4616bdd5",
            "value": 0.9514254494884276
          }
        },
        "bdf6893dd0f04cefa0530ffc7ebb4c4e": {
          "model_module": "@jupyter-widgets/base",
          "model_name": "LayoutModel",
          "model_module_version": "1.2.0",
          "state": {
            "_model_module": "@jupyter-widgets/base",
            "_model_module_version": "1.2.0",
            "_model_name": "LayoutModel",
            "_view_count": null,
            "_view_module": "@jupyter-widgets/base",
            "_view_module_version": "1.2.0",
            "_view_name": "LayoutView",
            "align_content": null,
            "align_items": null,
            "align_self": null,
            "border": null,
            "bottom": null,
            "display": null,
            "flex": null,
            "flex_flow": null,
            "grid_area": null,
            "grid_auto_columns": null,
            "grid_auto_flow": null,
            "grid_auto_rows": null,
            "grid_column": null,
            "grid_gap": null,
            "grid_row": null,
            "grid_template_areas": null,
            "grid_template_columns": null,
            "grid_template_rows": null,
            "height": null,
            "justify_content": null,
            "justify_items": null,
            "left": null,
            "margin": null,
            "max_height": null,
            "max_width": null,
            "min_height": null,
            "min_width": null,
            "object_fit": null,
            "object_position": null,
            "order": null,
            "overflow": null,
            "overflow_x": null,
            "overflow_y": null,
            "padding": null,
            "right": null,
            "top": null,
            "visibility": null,
            "width": null
          }
        },
        "e79d5f7390c1492f91bf9222b667d394": {
          "model_module": "@jupyter-widgets/base",
          "model_name": "LayoutModel",
          "model_module_version": "1.2.0",
          "state": {
            "_model_module": "@jupyter-widgets/base",
            "_model_module_version": "1.2.0",
            "_model_name": "LayoutModel",
            "_view_count": null,
            "_view_module": "@jupyter-widgets/base",
            "_view_module_version": "1.2.0",
            "_view_name": "LayoutView",
            "align_content": null,
            "align_items": null,
            "align_self": null,
            "border": null,
            "bottom": null,
            "display": null,
            "flex": null,
            "flex_flow": null,
            "grid_area": null,
            "grid_auto_columns": null,
            "grid_auto_flow": null,
            "grid_auto_rows": null,
            "grid_column": null,
            "grid_gap": null,
            "grid_row": null,
            "grid_template_areas": null,
            "grid_template_columns": null,
            "grid_template_rows": null,
            "height": null,
            "justify_content": null,
            "justify_items": null,
            "left": null,
            "margin": null,
            "max_height": null,
            "max_width": null,
            "min_height": null,
            "min_width": null,
            "object_fit": null,
            "object_position": null,
            "order": null,
            "overflow": null,
            "overflow_x": null,
            "overflow_y": null,
            "padding": null,
            "right": null,
            "top": null,
            "visibility": null,
            "width": null
          }
        },
        "23827c7963ee4a6c9a858aa9a1f3ea11": {
          "model_module": "@jupyter-widgets/controls",
          "model_name": "DescriptionStyleModel",
          "model_module_version": "1.5.0",
          "state": {
            "_model_module": "@jupyter-widgets/controls",
            "_model_module_version": "1.5.0",
            "_model_name": "DescriptionStyleModel",
            "_view_count": null,
            "_view_module": "@jupyter-widgets/base",
            "_view_module_version": "1.2.0",
            "_view_name": "StyleView",
            "description_width": ""
          }
        },
        "f03f9675b6eb47c59179c95c69f76522": {
          "model_module": "@jupyter-widgets/base",
          "model_name": "LayoutModel",
          "model_module_version": "1.2.0",
          "state": {
            "_model_module": "@jupyter-widgets/base",
            "_model_module_version": "1.2.0",
            "_model_name": "LayoutModel",
            "_view_count": null,
            "_view_module": "@jupyter-widgets/base",
            "_view_module_version": "1.2.0",
            "_view_name": "LayoutView",
            "align_content": null,
            "align_items": null,
            "align_self": null,
            "border": null,
            "bottom": null,
            "display": null,
            "flex": null,
            "flex_flow": null,
            "grid_area": null,
            "grid_auto_columns": null,
            "grid_auto_flow": null,
            "grid_auto_rows": null,
            "grid_column": null,
            "grid_gap": null,
            "grid_row": null,
            "grid_template_areas": null,
            "grid_template_columns": null,
            "grid_template_rows": null,
            "height": null,
            "justify_content": null,
            "justify_items": null,
            "left": null,
            "margin": null,
            "max_height": null,
            "max_width": null,
            "min_height": null,
            "min_width": null,
            "object_fit": null,
            "object_position": null,
            "order": null,
            "overflow": null,
            "overflow_x": null,
            "overflow_y": null,
            "padding": null,
            "right": null,
            "top": null,
            "visibility": null,
            "width": null
          }
        },
        "8d15f3fb61bc412b891602ac4616bdd5": {
          "model_module": "@jupyter-widgets/controls",
          "model_name": "ProgressStyleModel",
          "model_module_version": "1.5.0",
          "state": {
            "_model_module": "@jupyter-widgets/controls",
            "_model_module_version": "1.5.0",
            "_model_name": "ProgressStyleModel",
            "_view_count": null,
            "_view_module": "@jupyter-widgets/base",
            "_view_module_version": "1.2.0",
            "_view_name": "StyleView",
            "bar_color": null,
            "description_width": ""
          }
        }
      }
    }
  },
  "cells": [
    {
      "cell_type": "markdown",
      "source": [
        "## Google Drive mounting and libraries imports"
      ],
      "metadata": {
        "id": "UrhjtpeG-6DW"
      }
    },
    {
      "cell_type": "code",
      "execution_count": null,
      "metadata": {
        "id": "tIyg0iTX-1l1",
        "colab": {
          "base_uri": "https://localhost:8080/"
        },
        "outputId": "8f0fa089-8998-4b9b-c1dc-3f38b45966b1"
      },
      "outputs": [
        {
          "output_type": "stream",
          "name": "stdout",
          "text": [
            "Mounted at /content/drive\n"
          ]
        }
      ],
      "source": [
        "from google.colab import drive\n",
        "drive.mount('/content/drive', force_remount=True)"
      ]
    },
    {
      "cell_type": "code",
      "source": [
        "!pip install seqeval --quiet\n",
        "!pip install tqdm --quiet\n",
        "!pip install wandb --quiet"
      ],
      "metadata": {
        "id": "hsD1P5b9--U2",
        "colab": {
          "base_uri": "https://localhost:8080/"
        },
        "outputId": "f85c2e93-fc0c-46c4-cc5b-384b77e27236"
      },
      "execution_count": null,
      "outputs": [
        {
          "output_type": "stream",
          "name": "stdout",
          "text": [
            "\u001b[?25l     \u001b[90m━━━━━━━━━━━━━━━━━━━━━━━━━━━━━━━━━━━━━━━━\u001b[0m \u001b[32m0.0/43.6 kB\u001b[0m \u001b[31m?\u001b[0m eta \u001b[36m-:--:--\u001b[0m\r\u001b[2K     \u001b[90m━━━━━━━━━━━━━━━━━━━━━━━━━━━━━━━━━━━━━━━━\u001b[0m \u001b[32m43.6/43.6 kB\u001b[0m \u001b[31m4.0 MB/s\u001b[0m eta \u001b[36m0:00:00\u001b[0m\n",
            "\u001b[?25h  Preparing metadata (setup.py) ... \u001b[?25l\u001b[?25hdone\n",
            "  Building wheel for seqeval (setup.py) ... \u001b[?25l\u001b[?25hdone\n",
            "\u001b[2K     \u001b[90m━━━━━━━━━━━━━━━━━━━━━━━━━━━━━━━━━━━━━━━━\u001b[0m \u001b[32m2.0/2.0 MB\u001b[0m \u001b[31m28.0 MB/s\u001b[0m eta \u001b[36m0:00:00\u001b[0m\n",
            "\u001b[2K     \u001b[90m━━━━━━━━━━━━━━━━━━━━━━━━━━━━━━━━━━━━━━\u001b[0m \u001b[32m184.3/184.3 kB\u001b[0m \u001b[31m22.1 MB/s\u001b[0m eta \u001b[36m0:00:00\u001b[0m\n",
            "\u001b[?25h  Preparing metadata (setup.py) ... \u001b[?25l\u001b[?25hdone\n",
            "\u001b[2K     \u001b[90m━━━━━━━━━━━━━━━━━━━━━━━━━━━━━━━━━━━━━━\u001b[0m \u001b[32m201.7/201.7 kB\u001b[0m \u001b[31m22.2 MB/s\u001b[0m eta \u001b[36m0:00:00\u001b[0m\n",
            "\u001b[2K     \u001b[90m━━━━━━━━━━━━━━━━━━━━━━━━━━━━━━━━━━━━━━━━\u001b[0m \u001b[32m62.7/62.7 kB\u001b[0m \u001b[31m8.2 MB/s\u001b[0m eta \u001b[36m0:00:00\u001b[0m\n",
            "\u001b[?25h  Building wheel for pathtools (setup.py) ... \u001b[?25l\u001b[?25hdone\n"
          ]
        }
      ]
    },
    {
      "cell_type": "code",
      "source": [
        "import torch\n",
        "import torch.nn as nn\n",
        "from torch.utils.data import DataLoader\n",
        "import torch.optim as optim\n",
        "\n",
        "import numpy as np\n",
        "import pandas as pd\n",
        "\n",
        "# The Gensim library is used to import and use word embedding models\n",
        "import gensim\n",
        "import gensim.downloader as api\n",
        "from gensim.models import KeyedVectors\n",
        "\n",
        "# The seqeval library contains utilities to evaluate the model's performances\n",
        "from seqeval.scheme import IOB2\n",
        "from seqeval.metrics import accuracy_score\n",
        "from seqeval.metrics import classification_report\n",
        "from seqeval.metrics import f1_score\n",
        "\n",
        "from tqdm import tqdm\n",
        "\n",
        "# Weights and Biases is the service use to log and plot the history of the model's training\n",
        "import wandb\n",
        "import random"
      ],
      "metadata": {
        "id": "wg7DAnLJ--NZ"
      },
      "execution_count": null,
      "outputs": []
    },
    {
      "cell_type": "markdown",
      "source": [
        "## Definition of parameters and hyperparameters"
      ],
      "metadata": {
        "id": "d8cjtNA4lCDa"
      }
    },
    {
      "cell_type": "code",
      "source": [
        "# A list of different pre-trained embeddings to test\n",
        "pretrained_embeddings = [\n",
        "    'glove-wiki-gigaword-300',\n",
        "    'word2vec-google-news-300',\n",
        "    'glove-wiki-gigaword-200',\n",
        "    'glove-twitter-200',\n",
        "    'fasttext-wiki-news-subwords-300'\n",
        "]"
      ],
      "metadata": {
        "id": "3piOHVbf_Vfc"
      },
      "execution_count": null,
      "outputs": []
    },
    {
      "cell_type": "code",
      "source": [
        "# Definition of the parameters and hyperparameters \n",
        "parameters_dict = {\n",
        "    'embed_dim':300, # the dimensionality of the word embeddings\n",
        "    'hidden_dim':328, # By having a hidden dimensionality that is higher than the word embeddings, the LSTM can learn to capture more complex dependencies and relationships between the input sequence elements. This allows the model to better represent the input sequence and generate more accurate predictions.\n",
        "    'num_epochs':30,\n",
        "    'num_layers':1, # number of layers of the model\n",
        "    'bidirectional':False,\n",
        "    'batch_size':50,\n",
        "    'dropout':0.5,\n",
        "    'learning_rate':0.001,\n",
        "    'pad_token':'<PAD>',\n",
        "    'embedding_model':pretrained_embeddings[0], # selects which embeddings to use\n",
        "    'run_name':'GRU_glove_300_1-layer_dr-0.5', # this name will be used to identify the model both in the W&B logs and the saved state_dict\n",
        "    'debug_mode':False, # if False, logs the model's performances to W&B and saves the best model\n",
        "    'lowercase':True # Transforms all the words of the dataset to lowercase\n",
        "}"
      ],
      "metadata": {
        "id": "GGGfmilH_Ywx"
      },
      "execution_count": null,
      "outputs": []
    },
    {
      "cell_type": "markdown",
      "source": [
        "## Weights and Biases run initialization"
      ],
      "metadata": {
        "id": "qAmQRemcmMxR"
      }
    },
    {
      "cell_type": "code",
      "source": [
        "!wandb login"
      ],
      "metadata": {
        "colab": {
          "base_uri": "https://localhost:8080/"
        },
        "id": "TOlXveGaw1q5",
        "outputId": "7211af21-6dea-4c25-ae7c-0342e48380de"
      },
      "execution_count": null,
      "outputs": [
        {
          "output_type": "stream",
          "name": "stdout",
          "text": [
            "\u001b[34m\u001b[1mwandb\u001b[0m: Logging into wandb.ai. (Learn how to deploy a W&B server locally: https://wandb.me/wandb-server)\n",
            "\u001b[34m\u001b[1mwandb\u001b[0m: You can find your API key in your browser here: https://wandb.ai/authorize\n",
            "\u001b[34m\u001b[1mwandb\u001b[0m: Paste an API key from your profile and hit enter, or press ctrl+c to quit: \n",
            "\u001b[34m\u001b[1mwandb\u001b[0m: Appending key for api.wandb.ai to your netrc file: /root/.netrc\n"
          ]
        }
      ]
    },
    {
      "cell_type": "code",
      "source": [
        "# start a new wandb run to track this script\n",
        "wandb.init(\n",
        "    # set the wandb project where this run will be logged\n",
        "    project='MNLP_Homework1_LSTM',\n",
        "    name = parameters_dict['run_name'],\n",
        "    # track hyperparameters and run metadata\n",
        "    config=parameters_dict\n",
        ")"
      ],
      "metadata": {
        "colab": {
          "base_uri": "https://localhost:8080/",
          "height": 124
        },
        "id": "g6J5UQpnw7pQ",
        "outputId": "5f04075a-0e9e-419d-ce10-340fd53b6b4c"
      },
      "execution_count": null,
      "outputs": [
        {
          "output_type": "display_data",
          "data": {
            "text/plain": [
              "<IPython.core.display.HTML object>"
            ],
            "text/html": [
              "Tracking run with wandb version 0.15.0"
            ]
          },
          "metadata": {}
        },
        {
          "output_type": "display_data",
          "data": {
            "text/plain": [
              "<IPython.core.display.HTML object>"
            ],
            "text/html": [
              "Run data is saved locally in <code>/content/wandb/run-20230501_122229-84ruv7lf</code>"
            ]
          },
          "metadata": {}
        },
        {
          "output_type": "display_data",
          "data": {
            "text/plain": [
              "<IPython.core.display.HTML object>"
            ],
            "text/html": [
              "Syncing run <strong><a href='https://wandb.ai/sapienza_ml_2022_23/MNLP_Homework1_LSTM/runs/84ruv7lf' target=\"_blank\">lstm_glove_300_1-layer_dr-0.5</a></strong> to <a href='https://wandb.ai/sapienza_ml_2022_23/MNLP_Homework1_LSTM' target=\"_blank\">Weights & Biases</a> (<a href='https://wandb.me/run' target=\"_blank\">docs</a>)<br/>"
            ]
          },
          "metadata": {}
        },
        {
          "output_type": "display_data",
          "data": {
            "text/plain": [
              "<IPython.core.display.HTML object>"
            ],
            "text/html": [
              " View project at <a href='https://wandb.ai/sapienza_ml_2022_23/MNLP_Homework1_LSTM' target=\"_blank\">https://wandb.ai/sapienza_ml_2022_23/MNLP_Homework1_LSTM</a>"
            ]
          },
          "metadata": {}
        },
        {
          "output_type": "display_data",
          "data": {
            "text/plain": [
              "<IPython.core.display.HTML object>"
            ],
            "text/html": [
              " View run at <a href='https://wandb.ai/sapienza_ml_2022_23/MNLP_Homework1_LSTM/runs/84ruv7lf' target=\"_blank\">https://wandb.ai/sapienza_ml_2022_23/MNLP_Homework1_LSTM/runs/84ruv7lf</a>"
            ]
          },
          "metadata": {}
        },
        {
          "output_type": "execute_result",
          "data": {
            "text/html": [
              "<button onClick=\"this.nextSibling.style.display='block';this.style.display='none';\">Display W&B run</button><iframe src='https://wandb.ai/sapienza_ml_2022_23/MNLP_Homework1_LSTM/runs/84ruv7lf?jupyter=true' style='border:none;width:100%;height:420px;display:none;'></iframe>"
            ],
            "text/plain": [
              "<wandb.sdk.wandb_run.Run at 0x7f6d837ade70>"
            ]
          },
          "metadata": {},
          "execution_count": 129
        }
      ]
    },
    {
      "cell_type": "markdown",
      "source": [
        "## Preparing the dataset"
      ],
      "metadata": {
        "id": "Q5AimGLKAJ7Y"
      }
    },
    {
      "cell_type": "code",
      "source": [
        "# Importing datasets using pandas\n",
        "train_df = pd.read_json('/content/drive/MyDrive/mnlp_homework1/datasets/train.jsonl', lines=True)\n",
        "dev_df = pd.read_json('/content/drive/MyDrive/mnlp_homework1/datasets/dev.jsonl', lines=True)\n",
        "test_df = pd.read_json('/content/drive/MyDrive/mnlp_homework1/datasets/test.jsonl', lines=True)"
      ],
      "metadata": {
        "id": "ufdCQHyJAMEa"
      },
      "execution_count": null,
      "outputs": []
    },
    {
      "cell_type": "code",
      "source": [
        "# Reading the tokens and labels for each dataset\n",
        "train_tokens = train_df.tokens\n",
        "train_labels = train_df.labels\n",
        "\n",
        "dev_tokens = dev_df.tokens\n",
        "dev_labels = dev_df.labels\n",
        "\n",
        "test_tokens = test_df.tokens\n",
        "test_labels = test_df.labels"
      ],
      "metadata": {
        "id": "aWN1nrHvAwdo"
      },
      "execution_count": null,
      "outputs": []
    },
    {
      "cell_type": "markdown",
      "source": [
        "The below functions are the utilities that allow the processing of the data in order to be properly fed to the dataset class and processed by the model."
      ],
      "metadata": {
        "id": "FRGliPvemgkI"
      }
    },
    {
      "cell_type": "code",
      "source": [
        "def to_lower(sentences):\n",
        "  '''\n",
        "  Transforms each token to lowercase and returns a list of lists of tokens.\n",
        "  Args:\n",
        "    sentences: a list of lists of tokens, where each sublist is a sentence\n",
        "  '''\n",
        "  transformed_sentences = []\n",
        "  for sentence in sentences:\n",
        "    current_sentence = []\n",
        "    for token in sentence:\n",
        "      current_sentence.append(token.lower())\n",
        "    transformed_sentences.append(current_sentence)\n",
        "  return transformed_sentences\n",
        "\n",
        "def build_labels_dict(labels, pad_token):\n",
        "  '''\n",
        "  Indexes each possible label to a dictionary, including the padding label.\n",
        "  Args:\n",
        "    labels: a lists of lists of labels\n",
        "    pad_token: the padding token\n",
        "  '''\n",
        "  label2idx = {pad_token:0}\n",
        "  count = 1\n",
        "  for sentence in labels:\n",
        "    for label in sentence:\n",
        "      if label not in label2idx:\n",
        "        label2idx[label] = count\n",
        "        count += 1\n",
        "\n",
        "  idx2label = {idx: label for label, idx in label2idx.items()}\n",
        "  return label2idx, idx2label\n",
        "\n",
        "def add_padding(tokens_list, labels_list, pad_token):\n",
        "  '''\n",
        "  Adds padding to each sentence and each label list corresponding to the sentence.\n",
        "  The result will be a list of lists of sentences, \n",
        "  where each sentence will be as long as the longest sentence present.\n",
        "  Args:\n",
        "    tokens_list: a list of lists of tokens\n",
        "    labels_list: a list of lists of labels\n",
        "    pad_token: the padding token\n",
        "  '''\n",
        "  max_len = max(len(sentence) for sentence in tokens_list)\n",
        "\n",
        "  padded_tokens = []\n",
        "\n",
        "  for tokens in tokens_list:\n",
        "    current_tokens = tokens + [pad_token] * (max_len - len(tokens))\n",
        "    padded_tokens.append(current_tokens)\n",
        "\n",
        "  padded_labels = []\n",
        "\n",
        "  for labels in labels_list:\n",
        "    current_labels = labels + [pad_token] * (max_len - len(labels))\n",
        "    padded_labels.append(current_labels)\n",
        "\n",
        "  return padded_tokens, padded_labels\n",
        "\n",
        "def build_labels(labels_list, labels_dict):\n",
        "  '''\n",
        "  Used the labels dictionary to transform each label from a string\n",
        "  to its corresponding index.\n",
        "  Args:\n",
        "    labels_list: a lists of lists of labels (each label is a string)\n",
        "    labels_dict: a dictionary that indexes each label\n",
        "  '''\n",
        "  output_labels = []\n",
        "\n",
        "  for sentence in labels_list:\n",
        "    current_sentence = []\n",
        "    for token in sentence:\n",
        "      current_sentence.append(labels_dict[token])\n",
        "    output_labels.append(current_sentence)\n",
        "    \n",
        "  return output_labels\n",
        "\n",
        "def embed_tokens(sentences, embedding_model, pad_token, embed_dim):\n",
        "    '''\n",
        "    Creates the word embeddings for each token. The padding tokens are handeld by\n",
        "    assigning a vector of zeros, while unknown tokens are assigned to a vector of \n",
        "    random numbers. Every vector has the same dimension of the embedding dimensionality \n",
        "    of the embedding model.\n",
        "    Args:\n",
        "      sentences: a list of list of tokens\n",
        "      embedding_model: a word embedding model\n",
        "      pad_token: the padding token\n",
        "      embed_dim: the dimensionality of the embeddings\n",
        "    '''\n",
        "    embedded_output = []\n",
        "    pad_embedding = np.zeros(embed_dim)\n",
        "    unknown_embedding = np.random.rand(embed_dim)\n",
        "    \n",
        "    # create a matrix of embeddings for all tokens in the sentences\n",
        "    embeddings_matrix = np.zeros((len(embedding_model.index_to_key), embed_dim))\n",
        "    for i, token in enumerate(embedding_model.index_to_key):\n",
        "        embeddings_matrix[i] = embedding_model[token]\n",
        "\n",
        "    # create an index for each token in the embeddings matrix\n",
        "    index = {}\n",
        "    for i, token in enumerate(embedding_model.key_to_index):\n",
        "        index[token] = i\n",
        "\n",
        "    # loop through each sentence and get the embeddings for each token\n",
        "    for sentence in sentences:\n",
        "        embedded_sentence = []\n",
        "        for token in sentence:\n",
        "            if token in index:\n",
        "                embedded_sentence.append(embeddings_matrix[index[token]])\n",
        "            elif token == pad_token:\n",
        "                embedded_sentence.append(pad_embedding)\n",
        "            else:\n",
        "                embedded_sentence.append(unknown_embedding)\n",
        "        embedded_output.append(embedded_sentence)\n",
        "    \n",
        "    return embedded_output"
      ],
      "metadata": {
        "id": "fjtk05XHIW97"
      },
      "execution_count": null,
      "outputs": []
    },
    {
      "cell_type": "code",
      "source": [
        "def prepare_data(tokens, labels, parameters_dict, label2idx):\n",
        "  '''\n",
        "  Prepares the raw data in order to be fed to the dataset class. Uses the utilities\n",
        "  functions defined above.\n",
        "  Args:\n",
        "    tokens: the raw list of lists of tokens\n",
        "    labels: the raw list of lists of labels\n",
        "    parameters_dict: the dictionary containing params and hparams\n",
        "    label2idx: the dictionary that maps labels to indices\n",
        "  '''\n",
        "  pad_token = parameters_dict['pad_token']\n",
        "  embed_dim = parameters_dict['embed_dim']\n",
        "\n",
        "  tokens = to_lower(tokens)\n",
        "  padded_tokens, padded_labels = add_padding(tokens, labels, pad_token)\n",
        "  embedded_tokens = embed_tokens(padded_tokens, embedding_model, pad_token, embed_dim)\n",
        "  indexed_labels = build_labels(padded_labels, label2idx)\n",
        "\n",
        "  return embedded_tokens, indexed_labels"
      ],
      "metadata": {
        "id": "XwljBMxh-qzs"
      },
      "execution_count": null,
      "outputs": []
    },
    {
      "cell_type": "markdown",
      "source": [
        "## Word embeddings model loading"
      ],
      "metadata": {
        "id": "F6Q5FrR-tqAU"
      }
    },
    {
      "cell_type": "markdown",
      "source": [
        "In order to avoid downloading each time the model, use the api.load function just the first time, and save the embedding model on gdrive. This way the stored embedding models will be loaded straight form gdrive using the KeyedVector.load function."
      ],
      "metadata": {
        "id": "AQ0nu_GsuMig"
      }
    },
    {
      "cell_type": "code",
      "source": [
        "embedding_model  = api.load(parameters_dict['embedding_model'])\n",
        "embedding_model.save(\"/content/drive/MyDrive/mnlp_homework1/glove-300.wordvectors\")"
      ],
      "metadata": {
        "id": "TFBDCNjHGU4h",
        "colab": {
          "base_uri": "https://localhost:8080/"
        },
        "outputId": "cda46b49-d952-4a3d-87d4-019416ef8860"
      },
      "execution_count": null,
      "outputs": [
        {
          "output_type": "stream",
          "name": "stdout",
          "text": [
            "[=================================================-] 99.8% 956.4/958.4MB downloaded\n"
          ]
        }
      ]
    },
    {
      "cell_type": "code",
      "source": [
        "embedding_model = KeyedVectors.load(\"/content/drive/MyDrive/mnlp_homework1/glove-300.wordvectors\")"
      ],
      "metadata": {
        "id": "dWPlgHGbyBRa"
      },
      "execution_count": null,
      "outputs": []
    },
    {
      "cell_type": "markdown",
      "source": [
        "## Loading the dataset"
      ],
      "metadata": {
        "id": "LeOii3a3u1xY"
      }
    },
    {
      "cell_type": "markdown",
      "source": [
        "The TaggingDataset class stores the processed tokens and labels. The redefinition of the \\_\\_getitem\\_\\_ function returns the tensor corresponding to each x and y indexed by the batch."
      ],
      "metadata": {
        "id": "zrQ1ggEgu9Ek"
      }
    },
    {
      "cell_type": "code",
      "source": [
        "class TaggingDataset(torch.utils.data.Dataset):\n",
        "  def __init__(self, tokens, labels):\n",
        "    self.tokens = tokens\n",
        "    self.labels = labels\n",
        "\n",
        "  def __getitem__(self, index):\n",
        "    x = torch.FloatTensor(np.array(self.tokens[index]))\n",
        "    y = torch.tensor(np.array(self.labels[index]))\n",
        "    return x,y\n",
        "  \n",
        "  def __len__(self):\n",
        "    return len(self.tokens)"
      ],
      "metadata": {
        "id": "w69UxfsubOzD"
      },
      "execution_count": null,
      "outputs": []
    },
    {
      "cell_type": "markdown",
      "source": [
        "The label2idx and idx2label are fixed for consistency."
      ],
      "metadata": {
        "id": "gvsAvH-mvu-t"
      }
    },
    {
      "cell_type": "code",
      "source": [
        "label2idx = {\n",
        "    '<PAD>': 0,\n",
        "    'O': 1,\n",
        "    'B-SCENARIO': 2,\n",
        "    'B-CHANGE': 3,\n",
        "    'B-ACTION': 4,\n",
        "    'B-SENTIMENT': 5,\n",
        "    'I-CHANGE': 6,\n",
        "    'B-POSSESSION': 7,\n",
        "    'I-ACTION': 8,\n",
        "    'I-SENTIMENT': 9,\n",
        "    'I-SCENARIO': 10,\n",
        "    'I-POSSESSION': 11\n",
        "}\n",
        "\n",
        "idx2label = {\n",
        "    0: '<PAD>',\n",
        "    1: 'O',\n",
        "    2: 'B-SCENARIO',\n",
        "    3: 'B-CHANGE',\n",
        "    4: 'B-ACTION',\n",
        "    5: 'B-SENTIMENT',\n",
        "    6: 'I-CHANGE',\n",
        "    7: 'B-POSSESSION',\n",
        "    8: 'I-ACTION',\n",
        "    9: 'I-SENTIMENT',\n",
        "    10: 'I-SCENARIO',\n",
        "    11: 'I-POSSESSION'\n",
        "}"
      ],
      "metadata": {
        "id": "JXTWh6RCVImX"
      },
      "execution_count": null,
      "outputs": []
    },
    {
      "cell_type": "code",
      "source": [
        "# Processing of the raw data\n",
        "train_tokens_embedded, train_indexed_labels  = prepare_data(train_tokens, train_labels, parameters_dict, label2idx)\n",
        "\n",
        "dev_tokens_embedded, dev_indexed_labels = prepare_data(dev_tokens, dev_labels, parameters_dict, label2idx)\n",
        "\n",
        "test_tokens_embedded, test_indexed_labels = prepare_data(test_tokens, test_labels, parameters_dict, label2idx)"
      ],
      "metadata": {
        "id": "BWWw7TaxAXOb"
      },
      "execution_count": null,
      "outputs": []
    },
    {
      "cell_type": "code",
      "source": [
        "# Creation of the dataset and dataloaders\n",
        "train_dataset = TaggingDataset(train_tokens_embedded, train_indexed_labels)\n",
        "train_loader = DataLoader(train_dataset, batch_size=parameters_dict['batch_size'], shuffle=True)\n",
        "\n",
        "dev_dataset = TaggingDataset(dev_tokens_embedded, dev_indexed_labels)\n",
        "dev_loader = DataLoader(dev_dataset, batch_size=parameters_dict['batch_size'], shuffle=False)\n",
        "\n",
        "test_dataset = TaggingDataset(test_tokens_embedded, test_indexed_labels)\n",
        "test_loader = DataLoader(test_dataset, batch_size=parameters_dict['batch_size'], shuffle=False)"
      ],
      "metadata": {
        "id": "5s8lOzZbImOu"
      },
      "execution_count": null,
      "outputs": []
    },
    {
      "cell_type": "markdown",
      "source": [
        "## Model definition"
      ],
      "metadata": {
        "id": "XyVRGdS4JnNY"
      }
    },
    {
      "cell_type": "markdown",
      "source": [
        "LSTM (Long Short-Term Memory) networks are a type of recurrent neural network (RNN) that can capture long-term dependencies in sequential data. An LSTM unit is composed of a cell state, input gate, forget gate, and output gate. The cell state represents the memory of the LSTM, which can be modified by the gates, that regulate what information to remember or to forget.\n"
      ],
      "metadata": {
        "id": "K6sBC330w0ID"
      }
    },
    {
      "cell_type": "code",
      "source": [
        "class LSTMModel(nn.Module):\n",
        "    def __init__(self, embed_dim, hidden_size, output_size, bidirectional, num_layers,dropout=0.2):\n",
        "      '''\n",
        "      This model implements and LSTM whose output is fed to a fully connected layer (after applying dropout)\n",
        "      in order to output the logits corresponding to the probabilities for each label.\n",
        "      If bidirectional is True, the hidden size of the LSTM is doubled before being fed to the fc layer.\n",
        "      '''\n",
        "      super(LSTMModel, self).__init__()\n",
        "\n",
        "      self.lstm = nn.LSTM(embed_dim, hidden_size, batch_first=True, num_layers=num_layers,bidirectional=bidirectional)\n",
        "      self.dropout = nn.Dropout(dropout)\n",
        "\n",
        "      self.fc = nn.Linear(hidden_size*2 if bidirectional else hidden_size, output_size)\n",
        "\n",
        "    def forward(self, x):\n",
        "      lstm_output, _ = self.lstm(x)\n",
        "      lstm_output = self.dropout(lstm_output)\n",
        "      labels_logits = self.fc(lstm_output)\n",
        "\n",
        "      return labels_logits"
      ],
      "metadata": {
        "id": "JrGskroDJpxS"
      },
      "execution_count": null,
      "outputs": []
    },
    {
      "cell_type": "markdown",
      "source": [
        "Gated Recurrent Unit (GRU) networks are a type of RNN that were born to solve the vanishing gradient problem, which is a typical flaw of classic RNNs. GRUs are based on the reset and update gate which directly affect their hidden state to determine how much of the previous hidden state and how much of the new input to incorporate into the new hidden state."
      ],
      "metadata": {
        "id": "1xtbwbkH5EkO"
      }
    },
    {
      "cell_type": "code",
      "source": [
        "class GRUModel(nn.Module):\n",
        "  '''\n",
        "  This model implements and GRU whose output is fed to a fully connected layer (after applying dropout)\n",
        "  in order to output the logits corresponding to the probabilities for each label.\n",
        "  If bidirectional is True, the hidden size of the GRU is doubled before being fed to the fc layer.\n",
        "  '''\n",
        "  def __init__(self, embed_dim, hidden_size, output_size, bidirectional, num_layers,dropout=0.2):\n",
        "      super(GRUModel, self).__init__()\n",
        "\n",
        "      self.gru = nn.GRU(embed_dim, hidden_size, batch_first=True, num_layers=num_layers,bidirectional=bidirectional)\n",
        "      self.dropout = nn.Dropout(dropout)\n",
        "\n",
        "      self.fc = nn.Linear(hidden_size*2 if bidirectional else hidden_size, output_size)\n",
        "\n",
        "  def forward(self, x):\n",
        "      gru_output, _ = self.gru(x)\n",
        "      gru_output = self.dropout(gru_output)\n",
        "      tagged_output = self.fc(gru_output)\n",
        "\n",
        "      return tagged_output"
      ],
      "metadata": {
        "id": "bYIwMLX5WSAu"
      },
      "execution_count": null,
      "outputs": []
    },
    {
      "cell_type": "markdown",
      "source": [
        "## Training loop"
      ],
      "metadata": {
        "id": "-Wy-6UT2y2TT"
      }
    },
    {
      "cell_type": "markdown",
      "source": [
        "Definition of the trainer class. This class will handle the training and the evaluation loop."
      ],
      "metadata": {
        "id": "37OOgIS1y5A9"
      }
    },
    {
      "cell_type": "code",
      "source": [
        "class Trainer():\n",
        "  '''\n",
        "  The trainer class handles the training and evaluation loops by implementing the \n",
        "  train and evaluate model functions.\n",
        "  '''\n",
        "  def __init__(self, model, criterion, optimizer, label2idx, idx2label, parameters_dict, device):\n",
        "    '''\n",
        "    Args:\n",
        "      model: the initialized model\n",
        "      criterion: the loss criterion\n",
        "      optimizer: the chosen optimizer\n",
        "      label2idx: a dictionary that maps labels to indices\n",
        "      idx2label: a dictionary that maps indices to labels\n",
        "      parameters_dict: a dictionary containing params and hparams\n",
        "      device: the device where to execute the training\n",
        "    '''\n",
        "    self.model = model\n",
        "    self.criterion = criterion\n",
        "    self.optimizer = optimizer\n",
        "    self.label2idx = label2idx\n",
        "    self.idx2label = idx2label\n",
        "    self.parameters_dict = parameters_dict\n",
        "    self.device = device\n",
        "  \n",
        "  def train(self, train_dataloader, val_dataloader):\n",
        "    '''\n",
        "    The main training loop. Trains the model for \"num_epochs\" epochs and keeps \n",
        "    track of the best_f1. If debug_mode is false, it also log the performances of \n",
        "    the model to W&B and saves the state dictionary of the model that scores the best f1.\n",
        "    Args:\n",
        "      train_dataloader: an initialized dataloader containing the training dataset\n",
        "      val_dataloader: an initialized dataloader containing the evaluation dataset\n",
        "    '''\n",
        "    print(self.parameters_dict)\n",
        "    epochs = self.parameters_dict['num_epochs']\n",
        "    best_f1 = 0\n",
        "\n",
        "    for epoch in range(epochs):\n",
        "      train_loss, train_acc = 0.0, 0.0\n",
        "      test_loss, test_acc = 0.0, 0.0\n",
        "\n",
        "      num_batches = 0\n",
        "      num_correct_train, total_train = 0, 0\n",
        "\n",
        "      print(f'Epoch [{epoch+1}/{epochs}]')\n",
        "\n",
        "      self.model.train()\n",
        "      for x, y in tqdm(train_loader):\n",
        "        epoch_loss = 0.0\n",
        "        x, y = x.to(self.device), y.to(self.device)\n",
        "        self.optimizer.zero_grad()\n",
        "        \n",
        "        output = self.model(x)\n",
        "  \n",
        "        # Compute training loss\n",
        "        sample_loss = self.criterion(output.view(-1, output.shape[-1]), y.view(-1))\n",
        "        sample_loss.backward()\n",
        "        self.optimizer.step()\n",
        "\n",
        "        train_loss += sample_loss.item()\n",
        "        num_batches += 1\n",
        "\n",
        "        # Compute training accuracy\n",
        "        predictions = output.argmax(dim=-1)\n",
        "        mask = y != self.label2idx['<PAD>']\n",
        "        num_correct_train += (predictions[mask] == y[mask]).sum().item()\n",
        "        total_train += mask.sum().item()\n",
        "\n",
        "      avg_epoch_loss = train_loss / num_batches\n",
        "      train_acc = num_correct_train / total_train\n",
        "\n",
        "      # Evaluate model\n",
        "      avg_val_loss, val_acc, f1 = self.evaluate_model(val_dataloader)\n",
        "\n",
        "\n",
        "\n",
        "      print(f'Train loss: {avg_epoch_loss:.3f}, Train accuracy: {train_acc:.3f}')\n",
        "      print(f'Validation f1 score: {f1:.3f}, Validation loss: {avg_val_loss:.3f}, Validation accuracy: {val_acc:.2f}')\n",
        "\n",
        "      if not self.parameters_dict[\"debug_mode\"]:\n",
        "        if f1 > best_f1:\n",
        "          print(\"Saving current best model\")\n",
        "          best_f1 = f1\n",
        "          torch.save(model.state_dict(), '/content/drive/MyDrive/mnlp_homework1/best_model/'+ parameters_dict['run_name'] + '.pth')\n",
        "        wandb.log({\"Train Loss\": avg_epoch_loss, \"Train accuracy\": train_acc, \"Validation Loss\": avg_val_loss, \"Validation Accuracy\": val_acc, \"Validation F1\": f1})\n",
        "\n",
        "    if not self.parameters_dict[\"debug_mode\"]:\n",
        "      wandb.finish()\n",
        "\n",
        "  def evaluate_model(self, val_dataloader):\n",
        "    '''\n",
        "    Evaluated the model on the validation dataset.\n",
        "    Args:\n",
        "      val_dataloader: an initialized dataloader containing the validation dataset.\n",
        "    '''\n",
        "    self.model.eval()\n",
        "    y_true = []\n",
        "    y_pred = []\n",
        "    loss = 0.0\n",
        "    acc = 0.0\n",
        "    num_batches = 0\n",
        "    num_correct, total = 0, 0\n",
        "\n",
        "    with torch.no_grad():\n",
        "      for x, y in tqdm(val_dataloader):\n",
        "        x, y = x.to(self.device), y.to(self.device)\n",
        "        output = self.model(x)\n",
        "        transformed_output = output.view(-1, output.shape[-1])\n",
        "\n",
        "        # Compute validation loss\n",
        "        sample_loss = self.criterion(transformed_output, y.view(-1))\n",
        "        loss += sample_loss.item()\n",
        "\n",
        "        # Compute validation accuracy\n",
        "        predictions = output.argmax(dim=-1)\n",
        "        mask = y != self.label2idx['<PAD>']\n",
        "        num_correct += (predictions[mask] == y[mask]).sum().item()\n",
        "        total += mask.sum().item()\n",
        "\n",
        "        num_batches += 1\n",
        "\n",
        "        # Compute validation f1\n",
        "        for i, seq in enumerate(predictions):\n",
        "          # Mask padding values\n",
        "          mask = y[i] != self.label2idx['<PAD>']\n",
        "          y_true.append([self.idx2label[j.item()] for j in y[i][mask]])\n",
        "          y_pred.append([self.idx2label[j.item()] if j.item() != self.label2idx['<PAD>'] else 'O' for j in seq[mask]])\n",
        "          \n",
        "    loss = loss / num_batches\n",
        "    acc = num_correct / total\n",
        "    f1 = f1_score(y_true, y_pred, average='macro',mode='strict',scheme=IOB2)\n",
        "    \n",
        "    return loss, acc, f1\n"
      ],
      "metadata": {
        "id": "jyNnrL3P21MX"
      },
      "execution_count": null,
      "outputs": []
    },
    {
      "cell_type": "markdown",
      "source": [
        "Model, criterion and optimizer initialization."
      ],
      "metadata": {
        "id": "ju-obtW2JEjA"
      }
    },
    {
      "cell_type": "code",
      "source": [
        "device = torch.device('cuda' if torch.cuda.is_available() else 'cpu')\n",
        "model = GRUModel(parameters_dict['embed_dim'], parameters_dict['hidden_dim'], len(label2idx), parameters_dict['bidirectional'], parameters_dict['num_layers']).to(device)\n",
        "\n",
        "criterion = nn.CrossEntropyLoss(ignore_index=label2idx['<PAD>'])\n",
        "\n",
        "optimizer = optim.Adam(model.parameters())"
      ],
      "metadata": {
        "id": "eNFwZhASKXac"
      },
      "execution_count": null,
      "outputs": []
    },
    {
      "cell_type": "code",
      "source": [
        "trainer = Trainer(model, criterion, optimizer, label2idx, idx2label, parameters_dict, device)"
      ],
      "metadata": {
        "id": "fQeJ3BEJCE3m"
      },
      "execution_count": null,
      "outputs": []
    },
    {
      "cell_type": "code",
      "source": [
        "# Start training\n",
        "trainer.train(train_loader, dev_loader)"
      ],
      "metadata": {
        "id": "e-AW_crUCLHz",
        "colab": {
          "base_uri": "https://localhost:8080/",
          "height": 1000,
          "referenced_widgets": [
            "457f11adffdf44bc9e70fbf7da1fa5cd",
            "ccce3c70054e4a0894edd0674058cf51",
            "9abeb55d71d04d87b9d03da18df4822e",
            "bdf6893dd0f04cefa0530ffc7ebb4c4e",
            "e79d5f7390c1492f91bf9222b667d394",
            "23827c7963ee4a6c9a858aa9a1f3ea11",
            "f03f9675b6eb47c59179c95c69f76522",
            "8d15f3fb61bc412b891602ac4616bdd5"
          ]
        },
        "outputId": "f8343b5d-4afd-4208-b348-20b6bf3056c4"
      },
      "execution_count": null,
      "outputs": [
        {
          "output_type": "stream",
          "name": "stdout",
          "text": [
            "{'embed_dim': 300, 'hidden_dim': 328, 'num_epochs': 30, 'num_layers': 1, 'bidirectional': False, 'batch_size': 50, 'dropout': 0.5, 'learning_rate': 0.001, 'pad_token': '<PAD>', 'embedding_model': 'glove-wiki-gigaword-300', 'run_name': 'lstm_glove_300_1-layer_dr-0.5', 'debug_mode': False, 'lowercase': True}\n",
            "Epoch [1/30]\n"
          ]
        },
        {
          "output_type": "stream",
          "name": "stderr",
          "text": [
            "100%|██████████| 400/400 [00:22<00:00, 18.10it/s]\n",
            "100%|██████████| 40/40 [00:03<00:00, 12.25it/s]\n"
          ]
        },
        {
          "output_type": "stream",
          "name": "stdout",
          "text": [
            "Train loss: 0.319, Train accuracy: 0.912\n",
            "Validation f1 score: 0.446, Validation loss: 0.217, Validation accuracy: 0.93\n",
            "Saving current best model\n",
            "Epoch [2/30]\n"
          ]
        },
        {
          "output_type": "stream",
          "name": "stderr",
          "text": [
            "100%|██████████| 400/400 [00:22<00:00, 17.78it/s]\n",
            "100%|██████████| 40/40 [00:02<00:00, 14.80it/s]\n"
          ]
        },
        {
          "output_type": "stream",
          "name": "stdout",
          "text": [
            "Train loss: 0.193, Train accuracy: 0.933\n",
            "Validation f1 score: 0.574, Validation loss: 0.174, Validation accuracy: 0.94\n",
            "Saving current best model\n",
            "Epoch [3/30]\n"
          ]
        },
        {
          "output_type": "stream",
          "name": "stderr",
          "text": [
            "100%|██████████| 400/400 [00:23<00:00, 16.71it/s]\n",
            "100%|██████████| 40/40 [00:02<00:00, 14.03it/s]\n"
          ]
        },
        {
          "output_type": "stream",
          "name": "stdout",
          "text": [
            "Train loss: 0.165, Train accuracy: 0.941\n",
            "Validation f1 score: 0.611, Validation loss: 0.158, Validation accuracy: 0.94\n",
            "Saving current best model\n",
            "Epoch [4/30]\n"
          ]
        },
        {
          "output_type": "stream",
          "name": "stderr",
          "text": [
            "100%|██████████| 400/400 [00:22<00:00, 17.73it/s]\n",
            "100%|██████████| 40/40 [00:03<00:00, 12.16it/s]\n"
          ]
        },
        {
          "output_type": "stream",
          "name": "stdout",
          "text": [
            "Train loss: 0.150, Train accuracy: 0.945\n",
            "Validation f1 score: 0.648, Validation loss: 0.149, Validation accuracy: 0.94\n",
            "Saving current best model\n",
            "Epoch [5/30]\n"
          ]
        },
        {
          "output_type": "stream",
          "name": "stderr",
          "text": [
            "100%|██████████| 400/400 [00:22<00:00, 17.99it/s]\n",
            "100%|██████████| 40/40 [00:03<00:00, 11.82it/s]\n"
          ]
        },
        {
          "output_type": "stream",
          "name": "stdout",
          "text": [
            "Train loss: 0.141, Train accuracy: 0.948\n",
            "Validation f1 score: 0.665, Validation loss: 0.146, Validation accuracy: 0.94\n",
            "Saving current best model\n",
            "Epoch [6/30]\n"
          ]
        },
        {
          "output_type": "stream",
          "name": "stderr",
          "text": [
            "100%|██████████| 400/400 [00:22<00:00, 17.98it/s]\n",
            "100%|██████████| 40/40 [00:02<00:00, 14.74it/s]\n"
          ]
        },
        {
          "output_type": "stream",
          "name": "stdout",
          "text": [
            "Train loss: 0.132, Train accuracy: 0.951\n",
            "Validation f1 score: 0.635, Validation loss: 0.147, Validation accuracy: 0.94\n",
            "Epoch [7/30]\n"
          ]
        },
        {
          "output_type": "stream",
          "name": "stderr",
          "text": [
            "100%|██████████| 400/400 [00:22<00:00, 17.50it/s]\n",
            "100%|██████████| 40/40 [00:02<00:00, 14.72it/s]\n"
          ]
        },
        {
          "output_type": "stream",
          "name": "stdout",
          "text": [
            "Train loss: 0.125, Train accuracy: 0.953\n",
            "Validation f1 score: 0.677, Validation loss: 0.147, Validation accuracy: 0.94\n",
            "Saving current best model\n",
            "Epoch [8/30]\n"
          ]
        },
        {
          "output_type": "stream",
          "name": "stderr",
          "text": [
            "100%|██████████| 400/400 [00:22<00:00, 17.66it/s]\n",
            "100%|██████████| 40/40 [00:03<00:00, 12.83it/s]\n"
          ]
        },
        {
          "output_type": "stream",
          "name": "stdout",
          "text": [
            "Train loss: 0.117, Train accuracy: 0.955\n",
            "Validation f1 score: 0.676, Validation loss: 0.145, Validation accuracy: 0.95\n",
            "Epoch [9/30]\n"
          ]
        },
        {
          "output_type": "stream",
          "name": "stderr",
          "text": [
            "100%|██████████| 400/400 [00:22<00:00, 18.13it/s]\n",
            "100%|██████████| 40/40 [00:03<00:00, 11.12it/s]\n"
          ]
        },
        {
          "output_type": "stream",
          "name": "stdout",
          "text": [
            "Train loss: 0.109, Train accuracy: 0.959\n",
            "Validation f1 score: 0.670, Validation loss: 0.149, Validation accuracy: 0.94\n",
            "Epoch [10/30]\n"
          ]
        },
        {
          "output_type": "stream",
          "name": "stderr",
          "text": [
            "100%|██████████| 400/400 [00:22<00:00, 17.94it/s]\n",
            "100%|██████████| 40/40 [00:02<00:00, 15.00it/s]\n"
          ]
        },
        {
          "output_type": "stream",
          "name": "stdout",
          "text": [
            "Train loss: 0.102, Train accuracy: 0.961\n",
            "Validation f1 score: 0.634, Validation loss: 0.154, Validation accuracy: 0.94\n",
            "Epoch [11/30]\n"
          ]
        },
        {
          "output_type": "stream",
          "name": "stderr",
          "text": [
            "100%|██████████| 400/400 [00:22<00:00, 17.54it/s]\n",
            "100%|██████████| 40/40 [00:02<00:00, 14.99it/s]\n"
          ]
        },
        {
          "output_type": "stream",
          "name": "stdout",
          "text": [
            "Train loss: 0.092, Train accuracy: 0.965\n",
            "Validation f1 score: 0.663, Validation loss: 0.155, Validation accuracy: 0.95\n",
            "Epoch [12/30]\n"
          ]
        },
        {
          "output_type": "stream",
          "name": "stderr",
          "text": [
            "100%|██████████| 400/400 [00:22<00:00, 17.56it/s]\n",
            "100%|██████████| 40/40 [00:04<00:00,  9.70it/s]\n"
          ]
        },
        {
          "output_type": "stream",
          "name": "stdout",
          "text": [
            "Train loss: 0.083, Train accuracy: 0.969\n",
            "Validation f1 score: 0.643, Validation loss: 0.165, Validation accuracy: 0.94\n",
            "Epoch [13/30]\n"
          ]
        },
        {
          "output_type": "stream",
          "name": "stderr",
          "text": [
            "100%|██████████| 400/400 [00:22<00:00, 17.93it/s]\n",
            "100%|██████████| 40/40 [00:03<00:00, 10.80it/s]\n"
          ]
        },
        {
          "output_type": "stream",
          "name": "stdout",
          "text": [
            "Train loss: 0.073, Train accuracy: 0.973\n",
            "Validation f1 score: 0.645, Validation loss: 0.173, Validation accuracy: 0.94\n",
            "Epoch [14/30]\n"
          ]
        },
        {
          "output_type": "stream",
          "name": "stderr",
          "text": [
            "100%|██████████| 400/400 [00:22<00:00, 18.04it/s]\n",
            "100%|██████████| 40/40 [00:02<00:00, 13.57it/s]\n"
          ]
        },
        {
          "output_type": "stream",
          "name": "stdout",
          "text": [
            "Train loss: 0.064, Train accuracy: 0.976\n",
            "Validation f1 score: 0.644, Validation loss: 0.183, Validation accuracy: 0.94\n",
            "Epoch [15/30]\n"
          ]
        },
        {
          "output_type": "stream",
          "name": "stderr",
          "text": [
            "100%|██████████| 400/400 [00:22<00:00, 17.68it/s]\n",
            "100%|██████████| 40/40 [00:02<00:00, 14.83it/s]\n"
          ]
        },
        {
          "output_type": "stream",
          "name": "stdout",
          "text": [
            "Train loss: 0.056, Train accuracy: 0.979\n",
            "Validation f1 score: 0.635, Validation loss: 0.194, Validation accuracy: 0.94\n",
            "Epoch [16/30]\n"
          ]
        },
        {
          "output_type": "stream",
          "name": "stderr",
          "text": [
            "100%|██████████| 400/400 [00:23<00:00, 17.20it/s]\n",
            "100%|██████████| 40/40 [00:02<00:00, 14.47it/s]\n"
          ]
        },
        {
          "output_type": "stream",
          "name": "stdout",
          "text": [
            "Train loss: 0.049, Train accuracy: 0.982\n",
            "Validation f1 score: 0.632, Validation loss: 0.206, Validation accuracy: 0.94\n",
            "Epoch [17/30]\n"
          ]
        },
        {
          "output_type": "stream",
          "name": "stderr",
          "text": [
            "100%|██████████| 400/400 [00:22<00:00, 17.49it/s]\n",
            "100%|██████████| 40/40 [00:03<00:00, 11.83it/s]\n"
          ]
        },
        {
          "output_type": "stream",
          "name": "stdout",
          "text": [
            "Train loss: 0.044, Train accuracy: 0.984\n",
            "Validation f1 score: 0.633, Validation loss: 0.215, Validation accuracy: 0.94\n",
            "Epoch [18/30]\n"
          ]
        },
        {
          "output_type": "stream",
          "name": "stderr",
          "text": [
            "100%|██████████| 400/400 [00:22<00:00, 17.80it/s]\n",
            "100%|██████████| 40/40 [00:03<00:00, 11.28it/s]\n"
          ]
        },
        {
          "output_type": "stream",
          "name": "stdout",
          "text": [
            "Train loss: 0.040, Train accuracy: 0.986\n",
            "Validation f1 score: 0.637, Validation loss: 0.229, Validation accuracy: 0.94\n",
            "Epoch [19/30]\n"
          ]
        },
        {
          "output_type": "stream",
          "name": "stderr",
          "text": [
            "100%|██████████| 400/400 [00:22<00:00, 17.60it/s]\n",
            "100%|██████████| 40/40 [00:02<00:00, 14.65it/s]\n"
          ]
        },
        {
          "output_type": "stream",
          "name": "stdout",
          "text": [
            "Train loss: 0.036, Train accuracy: 0.987\n",
            "Validation f1 score: 0.624, Validation loss: 0.239, Validation accuracy: 0.94\n",
            "Epoch [20/30]\n"
          ]
        },
        {
          "output_type": "stream",
          "name": "stderr",
          "text": [
            "100%|██████████| 400/400 [00:23<00:00, 17.33it/s]\n",
            "100%|██████████| 40/40 [00:02<00:00, 14.52it/s]\n"
          ]
        },
        {
          "output_type": "stream",
          "name": "stdout",
          "text": [
            "Train loss: 0.033, Train accuracy: 0.988\n",
            "Validation f1 score: 0.619, Validation loss: 0.248, Validation accuracy: 0.94\n",
            "Epoch [21/30]\n"
          ]
        },
        {
          "output_type": "stream",
          "name": "stderr",
          "text": [
            "100%|██████████| 400/400 [00:23<00:00, 17.18it/s]\n",
            "100%|██████████| 40/40 [00:03<00:00, 10.47it/s]\n"
          ]
        },
        {
          "output_type": "stream",
          "name": "stdout",
          "text": [
            "Train loss: 0.031, Train accuracy: 0.989\n",
            "Validation f1 score: 0.618, Validation loss: 0.252, Validation accuracy: 0.94\n",
            "Epoch [22/30]\n"
          ]
        },
        {
          "output_type": "stream",
          "name": "stderr",
          "text": [
            "100%|██████████| 400/400 [00:22<00:00, 17.48it/s]\n",
            "100%|██████████| 40/40 [00:03<00:00, 11.68it/s]\n"
          ]
        },
        {
          "output_type": "stream",
          "name": "stdout",
          "text": [
            "Train loss: 0.029, Train accuracy: 0.990\n",
            "Validation f1 score: 0.630, Validation loss: 0.260, Validation accuracy: 0.94\n",
            "Epoch [23/30]\n"
          ]
        },
        {
          "output_type": "stream",
          "name": "stderr",
          "text": [
            "100%|██████████| 400/400 [00:22<00:00, 17.69it/s]\n",
            "100%|██████████| 40/40 [00:03<00:00, 11.57it/s]\n"
          ]
        },
        {
          "output_type": "stream",
          "name": "stdout",
          "text": [
            "Train loss: 0.028, Train accuracy: 0.990\n",
            "Validation f1 score: 0.624, Validation loss: 0.268, Validation accuracy: 0.94\n",
            "Epoch [24/30]\n"
          ]
        },
        {
          "output_type": "stream",
          "name": "stderr",
          "text": [
            "100%|██████████| 400/400 [00:22<00:00, 17.57it/s]\n",
            "100%|██████████| 40/40 [00:02<00:00, 14.41it/s]\n"
          ]
        },
        {
          "output_type": "stream",
          "name": "stdout",
          "text": [
            "Train loss: 0.027, Train accuracy: 0.990\n",
            "Validation f1 score: 0.626, Validation loss: 0.270, Validation accuracy: 0.94\n",
            "Epoch [25/30]\n"
          ]
        },
        {
          "output_type": "stream",
          "name": "stderr",
          "text": [
            "100%|██████████| 400/400 [00:23<00:00, 17.24it/s]\n",
            "100%|██████████| 40/40 [00:02<00:00, 14.64it/s]\n"
          ]
        },
        {
          "output_type": "stream",
          "name": "stdout",
          "text": [
            "Train loss: 0.026, Train accuracy: 0.991\n",
            "Validation f1 score: 0.617, Validation loss: 0.280, Validation accuracy: 0.94\n",
            "Epoch [26/30]\n"
          ]
        },
        {
          "output_type": "stream",
          "name": "stderr",
          "text": [
            "100%|██████████| 400/400 [00:22<00:00, 17.62it/s]\n",
            "100%|██████████| 40/40 [00:03<00:00, 12.15it/s]\n"
          ]
        },
        {
          "output_type": "stream",
          "name": "stdout",
          "text": [
            "Train loss: 0.025, Train accuracy: 0.991\n",
            "Validation f1 score: 0.623, Validation loss: 0.284, Validation accuracy: 0.94\n",
            "Epoch [27/30]\n"
          ]
        },
        {
          "output_type": "stream",
          "name": "stderr",
          "text": [
            "100%|██████████| 400/400 [00:22<00:00, 17.94it/s]\n",
            "100%|██████████| 40/40 [00:03<00:00, 10.86it/s]\n"
          ]
        },
        {
          "output_type": "stream",
          "name": "stdout",
          "text": [
            "Train loss: 0.024, Train accuracy: 0.991\n",
            "Validation f1 score: 0.612, Validation loss: 0.289, Validation accuracy: 0.94\n",
            "Epoch [28/30]\n"
          ]
        },
        {
          "output_type": "stream",
          "name": "stderr",
          "text": [
            "100%|██████████| 400/400 [00:22<00:00, 18.08it/s]\n",
            "100%|██████████| 40/40 [00:02<00:00, 14.23it/s]\n"
          ]
        },
        {
          "output_type": "stream",
          "name": "stdout",
          "text": [
            "Train loss: 0.023, Train accuracy: 0.992\n",
            "Validation f1 score: 0.623, Validation loss: 0.286, Validation accuracy: 0.94\n",
            "Epoch [29/30]\n"
          ]
        },
        {
          "output_type": "stream",
          "name": "stderr",
          "text": [
            "100%|██████████| 400/400 [00:22<00:00, 17.61it/s]\n",
            "100%|██████████| 40/40 [00:02<00:00, 14.80it/s]\n"
          ]
        },
        {
          "output_type": "stream",
          "name": "stdout",
          "text": [
            "Train loss: 0.023, Train accuracy: 0.992\n",
            "Validation f1 score: 0.621, Validation loss: 0.295, Validation accuracy: 0.94\n",
            "Epoch [30/30]\n"
          ]
        },
        {
          "output_type": "stream",
          "name": "stderr",
          "text": [
            "100%|██████████| 400/400 [00:22<00:00, 17.47it/s]\n",
            "100%|██████████| 40/40 [00:02<00:00, 14.74it/s]\n"
          ]
        },
        {
          "output_type": "stream",
          "name": "stdout",
          "text": [
            "Train loss: 0.023, Train accuracy: 0.992\n",
            "Validation f1 score: 0.619, Validation loss: 0.296, Validation accuracy: 0.94\n"
          ]
        },
        {
          "output_type": "display_data",
          "data": {
            "text/plain": [
              "<IPython.core.display.HTML object>"
            ],
            "text/html": [
              "Waiting for W&B process to finish... <strong style=\"color:green\">(success).</strong>"
            ]
          },
          "metadata": {}
        },
        {
          "output_type": "display_data",
          "data": {
            "text/plain": [
              "VBox(children=(Label(value='0.001 MB of 0.019 MB uploaded (0.000 MB deduped)\\r'), FloatProgress(value=0.058706…"
            ],
            "application/vnd.jupyter.widget-view+json": {
              "version_major": 2,
              "version_minor": 0,
              "model_id": "457f11adffdf44bc9e70fbf7da1fa5cd"
            }
          },
          "metadata": {}
        },
        {
          "output_type": "display_data",
          "data": {
            "text/plain": [
              "<IPython.core.display.HTML object>"
            ],
            "text/html": [
              "<style>\n",
              "    table.wandb td:nth-child(1) { padding: 0 10px; text-align: left ; width: auto;} td:nth-child(2) {text-align: left ; width: 100%}\n",
              "    .wandb-row { display: flex; flex-direction: row; flex-wrap: wrap; justify-content: flex-start; width: 100% }\n",
              "    .wandb-col { display: flex; flex-direction: column; flex-basis: 100%; flex: 1; padding: 10px; }\n",
              "    </style>\n",
              "<div class=\"wandb-row\"><div class=\"wandb-col\"><h3>Run history:</h3><br/><table class=\"wandb\"><tr><td>Train Loss</td><td>█▅▄▄▄▄▃▃▃▃▃▂▂▂▂▂▁▁▁▁▁▁▁▁▁▁▁▁▁▁</td></tr><tr><td>Train accuracy</td><td>▁▃▄▄▄▄▅▅▅▅▆▆▆▇▇▇▇▇████████████</td></tr><tr><td>Validation Accuracy</td><td>▁▅▇▇███████▇▇▇▇▆▇▆▆▆▆▆▆▆▆▆▆▆▆▆</td></tr><tr><td>Validation F1</td><td>▁▅▆▇█▇███▇█▇▇▇▇▇▇▇▆▆▆▇▆▆▆▆▆▆▆▆</td></tr><tr><td>Validation Loss</td><td>▄▂▂▁▁▁▁▁▁▁▁▂▂▃▃▄▄▅▅▆▆▆▇▇▇▇████</td></tr></table><br/></div><div class=\"wandb-col\"><h3>Run summary:</h3><br/><table class=\"wandb\"><tr><td>Train Loss</td><td>0.02268</td></tr><tr><td>Train accuracy</td><td>0.99184</td></tr><tr><td>Validation Accuracy</td><td>0.93905</td></tr><tr><td>Validation F1</td><td>0.61885</td></tr><tr><td>Validation Loss</td><td>0.29557</td></tr></table><br/></div></div>"
            ]
          },
          "metadata": {}
        },
        {
          "output_type": "display_data",
          "data": {
            "text/plain": [
              "<IPython.core.display.HTML object>"
            ],
            "text/html": [
              " View run <strong style=\"color:#cdcd00\">lstm_glove_300_1-layer_dr-0.5</strong> at: <a href='https://wandb.ai/sapienza_ml_2022_23/MNLP_Homework1_LSTM/runs/84ruv7lf' target=\"_blank\">https://wandb.ai/sapienza_ml_2022_23/MNLP_Homework1_LSTM/runs/84ruv7lf</a><br/>Synced 5 W&B file(s), 0 media file(s), 0 artifact file(s) and 0 other file(s)"
            ]
          },
          "metadata": {}
        },
        {
          "output_type": "display_data",
          "data": {
            "text/plain": [
              "<IPython.core.display.HTML object>"
            ],
            "text/html": [
              "Find logs at: <code>./wandb/run-20230501_122229-84ruv7lf/logs</code>"
            ]
          },
          "metadata": {}
        }
      ]
    },
    {
      "cell_type": "markdown",
      "source": [
        "## Model testing\n",
        "Once the training is finished, it's now time to test it and make observation on its performances."
      ],
      "metadata": {
        "id": "30_8TjBoKuwG"
      }
    },
    {
      "cell_type": "code",
      "source": [
        "device = torch.device('cuda' if torch.cuda.is_available() else 'cpu')"
      ],
      "metadata": {
        "id": "LC0OC5CoiucO"
      },
      "execution_count": null,
      "outputs": []
    },
    {
      "cell_type": "code",
      "source": [
        "embedding_model = KeyedVectors.load(\"/content/drive/MyDrive/mnlp_homework1/glove-300.wordvectors\")"
      ],
      "metadata": {
        "id": "ihcSIQAfh3zu"
      },
      "execution_count": null,
      "outputs": []
    },
    {
      "cell_type": "code",
      "source": [
        "test_parameters = {\n",
        "    \"embed_dim\":300,\n",
        "    \"hidden_size\":328,\n",
        "    \"output_size\":12,\n",
        "    \"bidirectional\":True,\n",
        "    \"num_layers\":5,\n",
        "    \"dropout\":0.2\n",
        "}"
      ],
      "metadata": {
        "id": "ZMz_VBUbxbdE"
      },
      "execution_count": null,
      "outputs": []
    },
    {
      "cell_type": "code",
      "source": [
        "model = LSTMModel(test_parameters[\"embed_dim\"], test_parameters[\"hidden_size\"], test_parameters[\"output_size\"], test_parameters[\"bidirectional\"], test_parameters[\"num_layers\"],test_parameters[\"dropout\"]).to(device)\n",
        "model.load_state_dict(torch.load(\"/content/drive/MyDrive/mnlp_homework1/best_model/lstm_BI_glove-300_5-layers.pth\",map_location=torch.device(device))) \n",
        "model.eval()"
      ],
      "metadata": {
        "colab": {
          "base_uri": "https://localhost:8080/"
        },
        "id": "HZ0Xw4XIK-vI",
        "outputId": "e6986e2b-5904-4573-c15c-e92aa1f402aa"
      },
      "execution_count": null,
      "outputs": [
        {
          "output_type": "execute_result",
          "data": {
            "text/plain": [
              "LSTMModel(\n",
              "  (lstm): LSTM(300, 328, num_layers=5, batch_first=True, bidirectional=True)\n",
              "  (dropout): Dropout(p=0.2, inplace=False)\n",
              "  (fc): Linear(in_features=656, out_features=12, bias=True)\n",
              ")"
            ]
          },
          "metadata": {},
          "execution_count": 27
        }
      ]
    },
    {
      "cell_type": "code",
      "source": [
        "# Print the number of parameters of the models\n",
        "model_num_params = sum(p.numel() for p in model.parameters() if p.requires_grad)\n",
        "print(f\"The model has {model_num_params} parameters.\")"
      ],
      "metadata": {
        "colab": {
          "base_uri": "https://localhost:8080/"
        },
        "id": "ck6A_gezuhJS",
        "outputId": "6a4cd093-7adc-4dee-e2ef-6e9e379117be"
      },
      "execution_count": null,
      "outputs": [
        {
          "output_type": "stream",
          "name": "stdout",
          "text": [
            "The model has 12010060 parameters.\n"
          ]
        }
      ]
    },
    {
      "cell_type": "code",
      "source": [
        "def add_padding_test(tokens_list,pad_token):\n",
        "  '''\n",
        "  Adds padding to each sentence and each label list corresponding to the sentence.\n",
        "  The result will be a list of lists of sentences, \n",
        "  where each sentence will be as long as the longest sentence present.\n",
        "  Args:\n",
        "    tokens_list: a list of lists of tokens\n",
        "    pad_token: the padding token\n",
        "  '''\n",
        "  max_len = max(len(sentence) for sentence in tokens_list)\n",
        "\n",
        "  padded_tokens = []\n",
        "\n",
        "  for tokens in tokens_list:\n",
        "    current_tokens = tokens + [pad_token] * (max_len - len(tokens))\n",
        "    padded_tokens.append(current_tokens)\n",
        "\n",
        "  return padded_tokens\n",
        "\n",
        "def create_predictions(model, embedded_sentences, padded_sentences, idx2label, label2idx):\n",
        "    y_pred = []\n",
        "    output = model(embedded_sentences)\n",
        "    predictions = output.argmax(dim=-1)\n",
        "\n",
        "    for i, seq in enumerate(predictions):\n",
        "        # Mask padding values\n",
        "        mask = [token != '<PAD>' for token in padded_sentences[i]]\n",
        "        masked_indexes = [token for token, is_padding in zip(seq, mask) if is_padding]    \n",
        "        masked_labels = [idx2label[idx.item()] for idx in masked_indexes]\n",
        "        y_pred.append(masked_labels)\n",
        "    return y_pred\n",
        "        \n",
        "def predict(model, sentences, pad_token, embedding_model, idx2label, label2idx):\n",
        "\n",
        "    with torch.no_grad():\n",
        "        lowered_sentences = to_lower(sentences)\n",
        "        padded_sentences = add_padding_test(lowered_sentences, parameters_dict['pad_token'])\n",
        "        embedded_sentences = torch.FloatTensor(embed_tokens(padded_sentences, embedding_model, parameters_dict['pad_token'], test_parameters['embed_dim'])).to(device)\n",
        "        predictions = create_predictions(model, embedded_sentences, padded_sentences, idx2label, label2idx)\n",
        "    \n",
        "    return predictions"
      ],
      "metadata": {
        "id": "O_HqiXEMMGK3"
      },
      "execution_count": null,
      "outputs": []
    },
    {
      "cell_type": "code",
      "source": [
        "x = test_df.tokens\n",
        "y_true = test_df.labels"
      ],
      "metadata": {
        "id": "95JeeR-GNpGe"
      },
      "execution_count": null,
      "outputs": []
    },
    {
      "cell_type": "code",
      "source": [
        "y_pred = predict(model, x, parameters_dict['pad_token'], embedding_model, idx2label, label2idx)"
      ],
      "metadata": {
        "id": "Pt6thRPGRj6A"
      },
      "execution_count": null,
      "outputs": []
    },
    {
      "cell_type": "markdown",
      "source": [
        "###Computing seqeval f1 score and the classification report on the test set:"
      ],
      "metadata": {
        "id": "81yJPW4xhCo1"
      }
    },
    {
      "cell_type": "code",
      "source": [
        "f1 = f1_score(y_true, y_pred, average='macro', scheme=IOB2)\n",
        "print(f\"F1 SCORE: {f1:.2f}\")\n",
        "\n",
        "acc_score = accuracy_score(y_true, y_pred)\n",
        "print(f'ACCURACY SCORE {acc_score:.3f}')\n",
        "\n",
        "print(\"----- CLASSIFICATION REPORT ------\")\n",
        "print(classification_report(y_true, y_pred))"
      ],
      "metadata": {
        "colab": {
          "base_uri": "https://localhost:8080/"
        },
        "id": "7klVRLilPxVR",
        "outputId": "c14e6b4f-ac9e-461b-cc39-e02322c0fb7e"
      },
      "execution_count": null,
      "outputs": [
        {
          "output_type": "stream",
          "name": "stdout",
          "text": [
            "F1 SCORE: 0.71\n",
            "ACCURACY SCORE 0.950\n",
            "----- CLASSIFICATION REPORT ------\n",
            "              precision    recall  f1-score   support\n",
            "\n",
            "      ACTION       0.67      0.73      0.70      2257\n",
            "      CHANGE       0.72      0.79      0.75      1303\n",
            "  POSSESSION       0.78      0.70      0.74       275\n",
            "    SCENARIO       0.68      0.69      0.68       629\n",
            "   SENTIMENT       0.70      0.64      0.67       319\n",
            "\n",
            "   micro avg       0.69      0.73      0.71      4783\n",
            "   macro avg       0.71      0.71      0.71      4783\n",
            "weighted avg       0.69      0.73      0.71      4783\n",
            "\n"
          ]
        }
      ]
    },
    {
      "cell_type": "markdown",
      "source": [
        "###Plotting the confusion matrix on the test set"
      ],
      "metadata": {
        "id": "CouqGOvjhcwD"
      }
    },
    {
      "cell_type": "code",
      "source": [
        "from sklearn.metrics import confusion_matrix\n",
        "import matplotlib.pyplot as plt\n",
        "import colorsys"
      ],
      "metadata": {
        "id": "EZbw15cxZ01u"
      },
      "execution_count": null,
      "outputs": []
    },
    {
      "cell_type": "code",
      "source": [
        "def plot_confusion_matrix(y_true, y_pred):\n",
        "  # Calculate the confusion matrix\n",
        "  cm = confusion_matrix(np.concatenate(y_true), np.concatenate(y_pred), labels=labels)\n",
        "\n",
        "  # Normalize the confusion matrix to percentages\n",
        "  cm = cm.astype('float') / cm.sum(axis=1)[:, np.newaxis]\n",
        "\n",
        "  # Set figure size\n",
        "  fig, ax = plt.subplots(figsize=(10, 8))\n",
        "\n",
        "  # Plot the confusion matrix as a heatmap\n",
        "  im = ax.imshow(cm, cmap='Blues')\n",
        "\n",
        "  # Add colorbar\n",
        "  cbar = ax.figure.colorbar(im, ax=ax)\n",
        "\n",
        "  # Set tick labels\n",
        "  ax.set_xticks(np.arange(len(labels)))\n",
        "  ax.set_yticks(np.arange(len(labels)))\n",
        "  ax.set_xticklabels(labels, fontsize=10)\n",
        "  ax.set_yticklabels(labels, fontsize=10)\n",
        "\n",
        "  # Rotate the tick labels and set their alignment.\n",
        "  plt.setp(ax.get_xticklabels(), rotation=45, ha=\"right\", rotation_mode=\"anchor\")\n",
        "\n",
        "  # Loop over data dimensions and create text annotations.\n",
        "  for i in range(len(labels)):\n",
        "      for j in range(len(labels)):\n",
        "          # Set the text color to white for darker colors\n",
        "          color = im.norm(cm[i, j])\n",
        "          r, g, b, _ = im.cmap(color)\n",
        "          brightness = colorsys.rgb_to_hsv(r, g, b)[2]\n",
        "          text_color = \"white\" if brightness < 0.5 else \"black\"\n",
        "          text = ax.text(j, i, f\"{cm[i, j]:.2%}\", ha=\"center\", va=\"center\", color=text_color, fontsize=8)\n",
        "\n",
        "  # Add a title\n",
        "  ax.set_title(\"Normalized Confusion Matrix\")\n",
        "\n",
        "  # Show the plot\n",
        "  plt.show()"
      ],
      "metadata": {
        "id": "dZz32xK-a-3w"
      },
      "execution_count": null,
      "outputs": []
    },
    {
      "cell_type": "code",
      "source": [
        "labels = ['O','B-CHANGE','B-ACTION','B-SENTIMENT','I-CHANGE','B-POSSESSION','I-ACTION','I-SENTIMENT','I-SCENARIO','I-POSSESSION']"
      ],
      "metadata": {
        "id": "LiuojTNXbLPx"
      },
      "execution_count": null,
      "outputs": []
    },
    {
      "cell_type": "code",
      "source": [
        "plot_confusion_matrix(y_true, y_pred)"
      ],
      "metadata": {
        "colab": {
          "base_uri": "https://localhost:8080/",
          "height": 767
        },
        "id": "Twojgn5ShsaO",
        "outputId": "bc19d87b-d732-4c29-dc23-f721319c9285"
      },
      "execution_count": null,
      "outputs": [
        {
          "output_type": "display_data",
          "data": {
            "text/plain": [
              "<Figure size 1000x800 with 2 Axes>"
            ],
            "image/png": "[encoded data removed]"
          },
          "metadata": {}
        }
      ]
    }
  ]
}